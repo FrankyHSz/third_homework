{
 "cells": [
  {
   "cell_type": "markdown",
   "metadata": {},
   "source": [
    "### About the model\n",
    "The model is a Multi-Layer Perceptron with 3 hidden layers. It gets 5 days' daily average temperature values as inputs and outputs a prediction for the next day. This notebook contains every information about the model, code for loading the data and train the model, but there are also saved models in the project directory.\n",
    "\n",
    "There are two flags in this notebook to configure its behavior:\n",
    "- *normalization_flag* : If True, the loaded data will be normalized before training and scaled back after prediction. If False, all data will remain in degrees Celsius.\n",
    "- *you_are_sure_about_this* : If True, a new model will be trained (it may take 1-3 mins). If False, the notebook loads in a trained and saved set of weights for the model.\n",
    "\n",
    "Hyperparameters of the model:\n",
    "- *input_seq_length* : The length of the input sequence in days. The best performing model gets 5 days' data to predict the next day.\n",
    "- *num_of_neurons* : A list containing the widths of the hidden layers and the output layer. The number of layers can be altered if one adds or removes a value from this list because the model is built in a for-loop running through it. The best performing model has 3 hidden layers with 10-20-8 neurons, respectively, and 1 output neuron.\n",
    "- *learning_rate* : Learning rate parameter for the Adam optimizer. Its set to 1e-4.\n",
    "- *batch_size* : Set to 64.\n",
    "- *num_of_epochs* : Set to 9001 because the training uses early stopping and model checkpoint.\n",
    "\n",
    "How to use a pretrained model? \n",
    "- The configuration of the model is not saved so one should construct a model same as here. The weights can be loaded after. There are weights saved for both normalized and not normalized data.\n",
    "- The model operates on daily average temperatures in degrees Celsius. 5 days' data should be presented to the models input layer to make a prediction for the following day. Predictions for days further than that can be predicted if one feeds the model's predicted temperature value back to it's input."
   ]
  },
  {
   "cell_type": "code",
   "execution_count": 18,
   "metadata": {},
   "outputs": [],
   "source": [
    "import csv\n",
    "from numpy import array\n",
    "import numpy as np\n",
    "import matplotlib.pyplot as plt\n",
    "\n",
    "from keras.models import Sequential\n",
    "from keras.layers import Dense\n",
    "from keras.optimizers import Adam\n",
    "from keras.losses import mean_squared_error\n",
    "from keras.callbacks import EarlyStopping, ModelCheckpoint"
   ]
  },
  {
   "cell_type": "markdown",
   "metadata": {},
   "source": [
    "### About the data\n",
    "\n",
    "The dataset is a preprocessed version of the weather data available at http://idojarasbudapest.hu/archivalt-idojaras. Preprocessed means it has been downloaded and cleaned into a simple set of CSV files named in 'YY_MM_prep.csv' containing three comma-separated values in every line: day of the month, max. temperature, min. temperature. The notebook loads the contents of these files into training, validation and test datasets and performs some additional data processing."
   ]
  },
  {
   "cell_type": "markdown",
   "metadata": {},
   "source": [
    "### Loading the data\n",
    "The training data will be the first part of the data from 2011 to 2017. Every line from every CSV file from this period will be read in, a daily average temperature will be calculated for every line and then added to the *training_data* list. (This list will later be processed into input-output pairs under the *Preprocessing* section.)"
   ]
  },
  {
   "cell_type": "code",
   "execution_count": 2,
   "metadata": {},
   "outputs": [],
   "source": [
    "# Loading the training data\n",
    "\n",
    "training_data = list()\n",
    "\n",
    "for year in range(11, 18):\n",
    "    for month in range(1, 13):\n",
    "        \n",
    "        if year is 11 and month < 10:\n",
    "            continue\n",
    "        \n",
    "        month_str = ''\n",
    "        if month < 10:\n",
    "            month_str = '0' + str(month)\n",
    "        else:\n",
    "            month_str = str(month)\n",
    "        \n",
    "        file_name = str(year) + '_' + month_str + '_prep'\n",
    "        with open('dataset/' + file_name + '.csv', 'r') as csvfile:\n",
    "            reader = csv.reader(csvfile, delimiter=',')\n",
    "            # print('Loading', '20'+str(year), month_str)\n",
    "            for row in reader:\n",
    "                average_temperature_of_the_day = (float(row[1]) + float(row[2])) / 2.0\n",
    "                training_data.append(average_temperature_of_the_day)"
   ]
  },
  {
   "cell_type": "code",
   "execution_count": 3,
   "metadata": {},
   "outputs": [],
   "source": [
    "# Loading the validation data\n",
    "\n",
    "validation_data = list()\n",
    "\n",
    "year = 18\n",
    "for month in range(1, 13):\n",
    "\n",
    "    month_str = ''\n",
    "    if month < 10:\n",
    "        month_str = '0' + str(month)\n",
    "    else:\n",
    "        month_str = str(month)\n",
    "\n",
    "    file_name = str(year) + '_' + month_str + '_prep'\n",
    "    with open('dataset/' + file_name + '.csv', 'r') as csvfile:\n",
    "        reader = csv.reader(csvfile, delimiter=',')\n",
    "        # print('Loading', '20'+str(year), month_str)\n",
    "        for row in reader:\n",
    "            average_temperature_of_the_day = (float(row[1]) + float(row[2])) / 2.0\n",
    "            validation_data.append(average_temperature_of_the_day)"
   ]
  },
  {
   "cell_type": "code",
   "execution_count": 4,
   "metadata": {},
   "outputs": [],
   "source": [
    "# Loading the test data\n",
    "\n",
    "test_data = list()\n",
    "\n",
    "year = 19\n",
    "for month in range(1, 11):\n",
    "\n",
    "    month_str = ''\n",
    "    if month < 10:\n",
    "        month_str = '0' + str(month)\n",
    "    else:\n",
    "        month_str = str(month)\n",
    "\n",
    "    file_name = str(year) + '_' + month_str + '_prep'\n",
    "    with open('dataset/' + file_name + '.csv', 'r') as csvfile:\n",
    "        reader = csv.reader(csvfile, delimiter=',')\n",
    "        # print('Loading', '20'+str(year), month_str)\n",
    "        for row in reader:\n",
    "            average_temperature_of_the_day = (float(row[1]) + float(row[2])) / 2.0\n",
    "            test_data.append(average_temperature_of_the_day)"
   ]
  },
  {
   "cell_type": "markdown",
   "metadata": {},
   "source": [
    "### Preprocessing\n",
    "After loading the average temperature values into a long list, this list needs to be normalized and split into smaller sequences (input) and predictions (output). Since the length of the input sequence is a hyperparameter of the model this needs to be declared ahead of the other hyperparameters."
   ]
  },
  {
   "cell_type": "code",
   "execution_count": 5,
   "metadata": {},
   "outputs": [],
   "source": [
    "# Data normalization\n",
    "\n",
    "normalization_flag = False\n",
    "\n",
    "if normalization_flag:\n",
    "    training_data   = array(training_data)\n",
    "    validation_data = array(validation_data)\n",
    "    test_data       = array(test_data)\n",
    "\n",
    "    mean, std = training_data.mean(), training_data.std()\n",
    "\n",
    "    training_data   = (training_data   - mean) / std\n",
    "    validation_data = (validation_data - mean) / std\n",
    "    test_data       = (test_data       - mean) / std"
   ]
  },
  {
   "cell_type": "code",
   "execution_count": 6,
   "metadata": {},
   "outputs": [],
   "source": [
    "# Parameters of the model (part 1)\n",
    "input_seq_length = 5"
   ]
  },
  {
   "cell_type": "markdown",
   "metadata": {},
   "source": [
    "The slicing is carried out with a custom function that returns the list of the input vectors and the list of the predictions. This functions is called to the training, validation and test datasets separately, hence no overlap will be present between the training and other datasets."
   ]
  },
  {
   "cell_type": "code",
   "execution_count": 7,
   "metadata": {},
   "outputs": [
    {
     "name": "stdout",
     "output_type": "stream",
     "text": [
      "Training inputs:  (2265, 5)  training predictions:  (2265,)\n",
      "Validation inputs:  (360, 5)  validation predictions:  (360,)\n",
      "Test inputs:  (294, 5)  test predictions:  (294,)\n"
     ]
    }
   ],
   "source": [
    "# Function to split the sequence into input samples\n",
    "def split_sequence(sequence, n_steps):\n",
    "    X, y = list(), list()\n",
    "    for i in range(len(sequence)):\n",
    "        end_idx = i + n_steps\n",
    "        # Check if end_idx is beyond the dataset\n",
    "        if end_idx > len(sequence)-1:\n",
    "            break\n",
    "        # Generating the sequence-prediction pairs\n",
    "        seq_x, seq_y = sequence[i:end_idx], sequence[end_idx]\n",
    "        X.append(seq_x)\n",
    "        y.append(seq_y)\n",
    "    return array(X), array(y)\n",
    "\n",
    "training_inputs,   training_predictions   = split_sequence(training_data, input_seq_length)\n",
    "validation_inputs, validation_predictions = split_sequence(validation_data, input_seq_length)\n",
    "test_inputs,       test_predictions       = split_sequence(test_data, input_seq_length)\n",
    "\n",
    "print('Training inputs: ', training_inputs.shape, ' training predictions: ', training_predictions.shape)\n",
    "print('Validation inputs: ', validation_inputs.shape, ' validation predictions: ', validation_predictions.shape)\n",
    "print('Test inputs: ', test_inputs.shape, ' test predictions: ', test_predictions.shape)"
   ]
  },
  {
   "cell_type": "markdown",
   "metadata": {},
   "source": [
    "### Building the model\n",
    "The following sections specify the model's architecture and hyperparameters and then compile the model. The first list called *num_of_neurons* is the most important becouse it holds how many layers will the model have and also how many neurons will be in each layer."
   ]
  },
  {
   "cell_type": "code",
   "execution_count": 8,
   "metadata": {},
   "outputs": [],
   "source": [
    "# Parameters of the model (part 2)\n",
    "num_of_neurons   = list((10, 20, 8, 1))\n",
    "\n",
    "learning_rate = 0.0001\n",
    "size_of_batch = 64\n",
    "num_of_epochs = 9001  # Its over nine thousand!"
   ]
  },
  {
   "cell_type": "code",
   "execution_count": 9,
   "metadata": {},
   "outputs": [
    {
     "name": "stdout",
     "output_type": "stream",
     "text": [
      "Model: \"sequential_1\"\n",
      "_________________________________________________________________\n",
      "Layer (type)                 Output Shape              Param #   \n",
      "=================================================================\n",
      "dense_1 (Dense)              (None, 10)                60        \n",
      "_________________________________________________________________\n",
      "dense_2 (Dense)              (None, 20)                220       \n",
      "_________________________________________________________________\n",
      "dense_3 (Dense)              (None, 8)                 168       \n",
      "_________________________________________________________________\n",
      "dense_4 (Dense)              (None, 1)                 9         \n",
      "=================================================================\n",
      "Total params: 457\n",
      "Trainable params: 457\n",
      "Non-trainable params: 0\n",
      "_________________________________________________________________\n"
     ]
    }
   ],
   "source": [
    "# Building the model\n",
    "model_one = Sequential()\n",
    "for i in range(len(num_of_neurons)):\n",
    "    # Input layer\n",
    "    if i is 0:\n",
    "        model_one.add(Dense(num_of_neurons[i], activation='relu', input_dim=input_seq_length))\n",
    "    # Output layer\n",
    "    elif i is len(num_of_neurons)-1:\n",
    "        model_one.add(Dense(num_of_neurons[i], activation='linear'))\n",
    "    # Hidden layers\n",
    "    else:\n",
    "        model_one.add(Dense(num_of_neurons[i], activation='relu'))\n",
    "\n",
    "opt = Adam(learning_rate)\n",
    "model_one.compile(opt, loss=mean_squared_error)\n",
    "\n",
    "model_one.summary()"
   ]
  },
  {
   "cell_type": "markdown",
   "metadata": {},
   "source": [
    "### Training the model\n",
    "Training of the model is carried out here."
   ]
  },
  {
   "cell_type": "code",
   "execution_count": 10,
   "metadata": {},
   "outputs": [],
   "source": [
    "# Do you want to train the model again? Are you sure about that?\n",
    "you_are_sure_about_this = False\n",
    "\n",
    "if you_are_sure_about_this:\n",
    "    es = EarlyStopping(monitor='val_loss', mode='min', verbose=1, patience=20)\n",
    "    mc = ModelCheckpoint('best_model.h5', monitor='val_loss', mode='min', verbose=1, save_best_only=True)\n",
    "    \n",
    "    history = model_one.fit(training_inputs, training_predictions,\n",
    "                            validation_data=(validation_inputs, validation_predictions),\n",
    "                            batch_size=size_of_batch,\n",
    "                            epochs=num_of_epochs,\n",
    "                            shuffle=True,\n",
    "                            callbacks=[es, mc])\n",
    "    \n",
    "    plt.plot(history.history['loss'], label='train')\n",
    "    plt.plot(history.history['val_loss'], label='test')\n",
    "    plt.legend()\n",
    "    plt.show()\n",
    "    \n",
    "    # Loading back the best model\n",
    "    model_one.load_weights('best_model.h5')\n",
    "    \n",
    "else:\n",
    "    if normalization_flag:\n",
    "        model_one.load_weights('best_model_normalized.h5')\n",
    "    else:\n",
    "        model_one.load_weights('best_model_not_normalized.h5')"
   ]
  },
  {
   "cell_type": "code",
   "execution_count": 11,
   "metadata": {},
   "outputs": [
    {
     "name": "stdout",
     "output_type": "stream",
     "text": [
      "WARNING:tensorflow:From /usr/local/lib/python3.6/dist-packages/keras/backend/tensorflow_backend.py:422: The name tf.global_variables is deprecated. Please use tf.compat.v1.global_variables instead.\n",
      "\n",
      "360/360 [==============================] - 0s 237us/step\n",
      "Validation loss is:  4.011397337913513\n",
      "294/294 [==============================] - 0s 66us/step\n",
      "Test loss is:  5.002149507302005\n"
     ]
    }
   ],
   "source": [
    "# Evaluation\n",
    "val_loss = model_one.evaluate(validation_inputs, validation_predictions)\n",
    "print('Validation loss is: ', val_loss)\n",
    "loss = model_one.evaluate(test_inputs, test_predictions)\n",
    "print('Test loss is: ', loss)"
   ]
  },
  {
   "cell_type": "code",
   "execution_count": 12,
   "metadata": {},
   "outputs": [
    {
     "name": "stdout",
     "output_type": "stream",
     "text": [
      "Error in Celsius:  2.236548570297995\n"
     ]
    }
   ],
   "source": [
    "# Error in degrees Celsius\n",
    "\n",
    "if normalization_flag:\n",
    "    error = np.sqrt(loss) * std\n",
    "else:\n",
    "    error = np.sqrt(loss)\n",
    "print(\"Error in Celsius: \", error)"
   ]
  },
  {
   "cell_type": "markdown",
   "metadata": {},
   "source": [
    "**Note:** Its interesting to see that the models performance is approx. the same with and without normalization. You can try both configurations using the *normalization_flag* variable, see above."
   ]
  },
  {
   "cell_type": "markdown",
   "metadata": {},
   "source": [
    "### Examining long time prediction capabilities\n",
    "The model is trained to predict only the next day's average temperature. This means that if one wants to \"see further\" should feed the model's predicted temperature into its input as a new measurement. The following two blocks of code demonstrates the capabilities of the model for longer predictions."
   ]
  },
  {
   "cell_type": "code",
   "execution_count": 13,
   "metadata": {},
   "outputs": [
    {
     "data": {
      "image/png": "[encoded data removed]",
      "text/plain": [
       "<Figure size 432x288 with 1 Axes>"
      ]
     },
     "metadata": {
      "needs_background": "light"
     },
     "output_type": "display_data"
    }
   ],
   "source": [
    "# Demonstration No.1\n",
    "\n",
    "# Starting from the first 5 days of January 2019\n",
    "predicted_month = list()\n",
    "for i in range(5):\n",
    "    predicted_month.append(test_data[i])\n",
    "\n",
    "model_input = list()\n",
    "model_input.append(test_data[:5])\n",
    "\n",
    "# Iteratively predicting one month ahead\n",
    "for i in range(31):\n",
    "    prediction = model_one.predict(array(model_input))\n",
    "    predicted_month.append(prediction[0][0])\n",
    "    model_input = list()\n",
    "    model_input.append(predicted_month[i+1:i+6])\n",
    "\n",
    "# Real temperature values\n",
    "real_measurements = list()\n",
    "for i in range(36):\n",
    "    real_measurements.append(test_data[i])\n",
    "\n",
    "# Plotting both time-series\n",
    "plt.plot(real_measurements, label='Real temp.')\n",
    "plt.plot(predicted_month, label='Predicted temp.')\n",
    "plt.legend()\n",
    "plt.show()\n"
   ]
  },
  {
   "cell_type": "code",
   "execution_count": 14,
   "metadata": {},
   "outputs": [
    {
     "data": {
      "image/png": "[encoded data removed]",
      "text/plain": [
       "<Figure size 432x288 with 1 Axes>"
      ]
     },
     "metadata": {
      "needs_background": "light"
     },
     "output_type": "display_data"
    }
   ],
   "source": [
    "# Demonstration No.2\n",
    "\n",
    "# Starting from the first 5 days of September 2019\n",
    "predicted_month = list()\n",
    "for i in range(5):\n",
    "    predicted_month.append(test_data[243+i])\n",
    "\n",
    "model_input = list()\n",
    "model_input.append(test_data[243:248])\n",
    "\n",
    "# Iteratively predicting one month ahead\n",
    "for i in range(31):\n",
    "    prediction = model_one.predict(array(model_input))\n",
    "    predicted_month.append(prediction[0][0])\n",
    "    model_input = list()\n",
    "    model_input.append(predicted_month[i+1:i+6])\n",
    "\n",
    "# Real temperature values\n",
    "real_measurements = list()\n",
    "for i in range(36):\n",
    "    real_measurements.append(test_data[243+i])\n",
    "\n",
    "# Plotting both time-series\n",
    "plt.plot(real_measurements, label='Real temp.')\n",
    "plt.plot(predicted_month, label='Predicted temp.')\n",
    "plt.legend()\n",
    "plt.show()\n"
   ]
  },
  {
   "cell_type": "markdown",
   "metadata": {},
   "source": [
    "As one can see, the model does not follow the variation of the real temperature but somehow it correctly follows the trend of it."
   ]
  },
  {
   "cell_type": "markdown",
   "metadata": {},
   "source": [
    "### Making the requested predictions\n",
    "The following block of code determines the temperatures values for the requested dates (30th Oct, 5th Nov, 26th Nov)."
   ]
  },
  {
   "cell_type": "code",
   "execution_count": 15,
   "metadata": {},
   "outputs": [
    {
     "data": {
      "image/png": "[encoded data removed]",
      "text/plain": [
       "<Figure size 432x288 with 1 Axes>"
      ]
     },
     "metadata": {
      "needs_background": "light"
     },
     "output_type": "display_data"
    }
   ],
   "source": [
    "# Feeding in the last 5 days of the dataset (from 21th to 26th Oct)\n",
    "predicted_month = list()\n",
    "for i in range(5):\n",
    "    predicted_month.append(test_data[-5+i])\n",
    "\n",
    "model_input = list()\n",
    "model_input.append(test_data[-5:])\n",
    "\n",
    "# Iteratively predicting one month ahead\n",
    "for i in range(31):\n",
    "    prediction = model_one.predict(array(model_input))\n",
    "    predicted_month.append(prediction[0][0])\n",
    "    model_input = list()\n",
    "    model_input.append(predicted_month[i+1:i+6])\n",
    "\n",
    "# Plotting the time-series\n",
    "plt.plot(predicted_month, label='Predicted temp.')\n",
    "plt.legend()\n",
    "plt.show()"
   ]
  },
  {
   "cell_type": "code",
   "execution_count": 17,
   "metadata": {},
   "outputs": [
    {
     "name": "stdout",
     "output_type": "stream",
     "text": [
      "Prediction for 30th October :  16.93645\n",
      "Prediction for  5th November:  16.197287\n",
      "Prediction for 26th November:  14.633916\n"
     ]
    }
   ],
   "source": [
    "# Extracting the temperature prediction for the requested dates\n",
    "oct_30 = predicted_month[8]\n",
    "nov_5  = predicted_month[14]\n",
    "nov_26 = predicted_month[35]\n",
    "print('Prediction for 30th October : ', oct_30)\n",
    "print('Prediction for  5th November: ', nov_5)\n",
    "print('Prediction for 26th November: ', nov_26)"
   ]
  },
  {
   "cell_type": "markdown",
   "metadata": {},
   "source": [
    "The official predictions are:\n",
    "- 30th October : 16.9 °C\n",
    "-  5th November: 16.2 °C\n",
    "- 26th November: 14.6 °C"
   ]
  },
  {
   "cell_type": "code",
   "execution_count": null,
   "metadata": {},
   "outputs": [],
   "source": []
  }
 ],
 "metadata": {
  "kernelspec": {
   "display_name": "Python 3",
   "language": "python",
   "name": "python3"
  },
  "language_info": {
   "codemirror_mode": {
    "name": "ipython",
    "version": 3
   },
   "file_extension": ".py",
   "mimetype": "text/x-python",
   "name": "python",
   "nbconvert_exporter": "python",
   "pygments_lexer": "ipython3",
   "version": "3.6.8"
  }
 },
 "nbformat": 4,
 "nbformat_minor": 2
}
